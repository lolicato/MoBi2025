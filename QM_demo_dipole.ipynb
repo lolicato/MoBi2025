{
 "cells": [
  {
   "cell_type": "markdown",
   "id": "a1187690-06f2-4c45-be6f-d5c471420b50",
   "metadata": {},
   "source": [
    "# Quantum Chemistry Demo"
   ]
  },
  {
   "cell_type": "code",
   "execution_count": 18,
   "id": "560c2001-cba2-4638-a3ba-b535a8dd6c42",
   "metadata": {},
   "outputs": [],
   "source": [
    "#Import modules and define SMILES\n",
    "from ase.io import read, write\n",
    "import os\n",
    "import subprocess\n",
    "import nglview as nv\n",
    "import MDAnalysis as mda\n",
    "import nglview as nv\n",
    "from nglview.datafiles import PDB, XTC\n",
    "from rdkit import Chem\n",
    "from rdkit.Chem import AllChem\n",
    "import py3Dmol\n",
    "import matplotlib.pyplot as plt\n",
    "import numpy as np\n",
    "import pandas as pd\n",
    "import re"
   ]
  },
  {
   "cell_type": "code",
   "execution_count": 14,
   "id": "cf38d092-d451-411c-8017-be67b92bc2ed",
   "metadata": {},
   "outputs": [],
   "source": [
    "# Define your molecules (names and SMILES)\n",
    "molecules = {\n",
    "    \"water\": \"O\",\n",
    "    \"ammonia\": \"N\",\n",
    "    \"hydrogen_fluoride\": \"[H]F\",\n",
    "    \"carbon_monoxide\": \"[C-]#[O+]\",  # better charge-separated resonance structure\n",
    "    \"methane\": \"C\"\n",
    "}"
   ]
  },
  {
   "cell_type": "code",
   "execution_count": 28,
   "id": "67331c24-9813-4e29-ba8e-93eaa1b0a8d9",
   "metadata": {},
   "outputs": [
    {
     "name": "stdout",
     "output_type": "stream",
     "text": [
      "ORCA input file 'water.inp' written.\n",
      "ORCA input file 'ammonia.inp' written.\n",
      "ORCA input file 'hydrogen_fluoride.inp' written.\n",
      "ORCA input file 'carbon_monoxide.inp' written.\n",
      "ORCA input file 'methane.inp' written.\n"
     ]
    }
   ],
   "source": [
    "# Loop through each molecule and create input files\n",
    "for name, smiles in molecules.items():\n",
    "    mol = Chem.MolFromSmiles(smiles)\n",
    "    mol = Chem.AddHs(mol)  # Add hydrogens\n",
    "    AllChem.EmbedMolecule(mol)\n",
    "    AllChem.UFFOptimizeMolecule(mol)\n",
    "\n",
    "    # Extract XYZ coordinates\n",
    "    conf = mol.GetConformer()\n",
    "    xyz_block = \"\"\n",
    "    for atom in mol.GetAtoms():\n",
    "        pos = conf.GetAtomPosition(atom.GetIdx())\n",
    "        xyz_block += f\"{atom.GetSymbol()} {pos.x:.4f} {pos.y:.4f} {pos.z:.4f}\\n\"\n",
    "\n",
    "    # Format ORCA input\n",
    "    orca_input = f\"\"\"! HF def2-SVP TightSCF\n",
    "\n",
    "* xyz 0 1\n",
    "{xyz_block}*\n",
    "\"\"\"\n",
    "\n",
    "    # Write to file\n",
    "    filename = f\"{name}.inp\"\n",
    "    with open(filename, \"w\") as f:\n",
    "        f.write(orca_input)\n",
    "\n",
    "    print(f\"ORCA input file '{filename}' written.\")"
   ]
  },
  {
   "cell_type": "markdown",
   "id": "ad5fe4a6-f50f-41c2-b6e1-acc9813ed3de",
   "metadata": {},
   "source": [
    "## ORCA Input Line Explanation\n",
    "\n",
    "### `! HF def2-SVP TightSCF`\n",
    "\n",
    "This command line specifies the type of quantum chemical calculation to be performed by ORCA. Each keyword sets a method or option:\n",
    "\n",
    "- **`HF`**  \n",
    "Refers to the Hartree–Fock method, a foundational ab initio quantum chemistry approach. It solves the electronic Schrödinger equation using a single Slater determinant, approximating electron–electron interactions in a mean-field sense. HF does not include electron correlation beyond exchange, making it less accurate than DFT or post-HF methods, but useful for basic property predictions, benchmarking, or method comparisons.\n",
    "\n",
    "- **`def2-SVP`**  \n",
    "A split-valence basis set from the def2 family developed by Ahlrichs and coworkers. The “SVP” stands for split valence with polarization, which means:\n",
    "\t•\tValence orbitals are represented by multiple basis functions (improving flexibility)\n",
    "\t•\tPolarization functions are added to allow for angular distortion of electron clouds\n",
    "This basis set offers a good compromise between computational efficiency and reasonable accuracy for small to medium-sized molecules.\n",
    "\n",
    "- **`TightSCF`**  \n",
    "Specifies tight convergence criteria for the Self-Consistent Field (SCF) procedure. During SCF, ORCA iteratively solves for the electronic wavefunction until it converges. TightSCF reduces the threshold for convergence, ensuring higher precision in energy and property calculations, which is particularly important when computing derivatives like dipole moments or in preparation for subsequent steps (e.g., frequency analysis)."
   ]
  },
  {
   "cell_type": "markdown",
   "id": "9b458f9b-97b2-4522-8773-6604372a636f",
   "metadata": {},
   "source": [
    "##  Molecular geometry section\n",
    "\n",
    "<pre>\n",
    "* xyz 0 1\n",
    "\n",
    "This marks the beginning of the molecular geometry section.\n",
    "\n",
    "• <b>xyz:</b> Geometry format used — atomic symbols and Cartesian coordinates (x, y, z).\n",
    "• <b>0:</b> Total charge of the system (here, neutral).\n",
    "• <b>1:<b> Spin multiplicity (here, singlet, meaning all electrons are paired).\n",
    "\n",
    "*\n",
    "\n",
    "This asterisk marks the end of the coordinate input section.\n",
    "</pre>"
   ]
  },
  {
   "cell_type": "code",
   "execution_count": 29,
   "id": "9b818686-0424-4f0a-8dcc-b52f2204aa2a",
   "metadata": {},
   "outputs": [
    {
     "name": "stdout",
     "output_type": "stream",
     "text": [
      "Running ORCA for water...\n",
      "Finished water, files stored in 'outputs/water_files'.\n",
      "Running ORCA for ammonia...\n",
      "Finished ammonia, files stored in 'outputs/ammonia_files'.\n",
      "Running ORCA for hydrogen_fluoride...\n",
      "Finished hydrogen_fluoride, files stored in 'outputs/hydrogen_fluoride_files'.\n",
      "Running ORCA for carbon_monoxide...\n",
      "Finished carbon_monoxide, files stored in 'outputs/carbon_monoxide_files'.\n",
      "Running ORCA for methane...\n",
      "Finished methane, files stored in 'outputs/methane_files'.\n",
      "All ORCA jobs completed.\n"
     ]
    }
   ],
   "source": [
    "# List of molecule names matching your .inp files (without extensions)\n",
    "molecule_names = [\"water\", \"ammonia\", \"hydrogen_fluoride\", \"carbon_monoxide\", \"methane\"]\n",
    "\n",
    "# Ensure a main output directory exists\n",
    "os.makedirs(\"outputs\", exist_ok=True)\n",
    "\n",
    "for name in molecule_names:\n",
    "    inp_file = f\"{name}.inp\"\n",
    "    out_file = f\"{name}.out\"\n",
    "    molecule_output_dir = f\"outputs/{name}_files\"\n",
    "\n",
    "    # Run ORCA\n",
    "    print(f\"Running ORCA for {name}...\")\n",
    "    subprocess.run([\"orca\", inp_file], stdout=open(out_file, \"w\"))\n",
    "\n",
    "    # Create directory for molecule-specific files\n",
    "    os.makedirs(molecule_output_dir, exist_ok=True)\n",
    "\n",
    "    # Move related files into the folder\n",
    "    for ext in [\"inp\", \"out\", \"gbw\", \"prop\", \"xyz\",\"property.txt\",\"densitiesinfo\", \"densities\", \"bibtex\"]:\n",
    "        file_path = f\"{name}.{ext}\"\n",
    "        if os.path.exists(file_path):\n",
    "            os.rename(file_path, os.path.join(molecule_output_dir, f\"{name}.{ext}\"))\n",
    "\n",
    "    print(f\"Finished {name}, files stored in '{molecule_output_dir}'.\")\n",
    "\n",
    "print(\"All ORCA jobs completed.\")"
   ]
  },
  {
   "cell_type": "code",
   "execution_count": 30,
   "id": "da74dce4-125e-4a62-b1a2-34531b9dc7bf",
   "metadata": {},
   "outputs": [
    {
     "name": "stdout",
     "output_type": "stream",
     "text": [
      "Dipole Moments (Debye):\n",
      "water               : 2.166625101\n",
      "hydrogen_fluoride   : 2.128157275\n",
      "methane             : 1.1488e-05\n",
      "carbon_monoxide     : 0.226747896\n",
      "ammonia             : 1.797098994\n"
     ]
    }
   ],
   "source": [
    "# Extract Dipole moments from .out files\n",
    "base_dir = \"outputs\"\n",
    "dipole_results = {}\n",
    "\n",
    "# Loop through each subdirectory (e.g., water_files, ammonia_files)\n",
    "for subfolder in os.listdir(base_dir):\n",
    "    subfolder_path = os.path.join(base_dir, subfolder)\n",
    "    if not os.path.isdir(subfolder_path):\n",
    "        continue\n",
    "\n",
    "    # Look for the .out file (same name as subfolder but without \"_files\")\n",
    "    molecule_name = subfolder.replace(\"_files\", \"\")\n",
    "    out_file = os.path.join(subfolder_path, f\"{molecule_name}.out\")\n",
    "\n",
    "    if not os.path.exists(out_file):\n",
    "        dipole_results[molecule_name] = \"Output file not found\"\n",
    "        continue\n",
    "\n",
    "    dipole_debye = None\n",
    "    with open(out_file, \"r\", encoding=\"utf-8\", errors=\"ignore\") as f:\n",
    "        for line in f:\n",
    "            if \"Magnitude (Debye)\" in line:\n",
    "                try:\n",
    "                    dipole_debye = float(line.split(\":\")[1].strip())\n",
    "                except:\n",
    "                    dipole_debye = \"Parse error\"\n",
    "                break\n",
    "\n",
    "    dipole_results[molecule_name] = dipole_debye if dipole_debye is not None else \"Not found\"\n",
    "\n",
    "# Print summary\n",
    "print(\"Dipole Moments (Debye):\")\n",
    "for mol, value in dipole_results.items():\n",
    "    print(f\"{mol:<20}: {value}\")"
   ]
  },
  {
   "cell_type": "code",
   "execution_count": null,
   "id": "ce7bde36-af77-471d-b25c-0bd4f8ff7750",
   "metadata": {},
   "outputs": [],
   "source": []
  }
 ],
 "metadata": {
  "kernelspec": {
   "display_name": "Python 3 (ipykernel)",
   "language": "python",
   "name": "python3"
  },
  "language_info": {
   "codemirror_mode": {
    "name": "ipython",
    "version": 3
   },
   "file_extension": ".py",
   "mimetype": "text/x-python",
   "name": "python",
   "nbconvert_exporter": "python",
   "pygments_lexer": "ipython3",
   "version": "3.12.7"
  }
 },
 "nbformat": 4,
 "nbformat_minor": 5
}
