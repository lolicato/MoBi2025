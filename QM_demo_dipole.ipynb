{
 "cells": [
  {
   "cell_type": "markdown",
   "id": "a1187690-06f2-4c45-be6f-d5c471420b50",
   "metadata": {
    "id": "a1187690-06f2-4c45-be6f-d5c471420b50"
   },
   "source": [
    "# Quantum Chemistry: Dipole Calculation"
   ]
  },
  {
   "cell_type": "code",
   "execution_count": null,
   "id": "268aa132-1cf3-4f5b-ab30-d76a5a1eed44",
   "metadata": {},
   "outputs": [],
   "source": [
    "# Downgrade NumPy to version compatible with RDKit and PySCF\n",
    "!pip install numpy==1.23.5\n",
    "\n",
    "# Restart the runtime to apply the change before any imports\n",
    "import os\n",
    "os.kill(os.getpid(), 9)"
   ]
  },
  {
   "cell_type": "code",
   "execution_count": null,
   "id": "jEjfnuQogdn6",
   "metadata": {
    "colab": {
     "base_uri": "https://localhost:8080/"
    },
    "id": "jEjfnuQogdn6",
    "outputId": "a56f56ed-3770-4f40-9776-ed92377d08b1"
   },
   "outputs": [],
   "source": [
    "# Install PySCF and rdkit\n",
    "!pip install pyscf \n",
    "!pip install rdkit-pypi \n",
    "!pip install pandas \n",
    "!pip install py3Dmol"
   ]
  },
  {
   "cell_type": "code",
   "execution_count": null,
   "id": "eq8NPH9YhCor",
   "metadata": {
    "id": "eq8NPH9YhCor"
   },
   "outputs": [],
   "source": [
    "# Load Libraries\n",
    "from rdkit import Chem\n",
    "from rdkit.Chem import AllChem\n",
    "from pyscf import gto, scf\n",
    "import pandas as pd\n",
    "import numpy as np\n",
    "import py3Dmol\n",
    "\n",
    "def show_molecule_3D(rdkit_mol, size=(300, 300)):\n",
    "    # Generate 3D coordinates\n",
    "    mol_block = Chem.MolToMolBlock(rdkit_mol)\n",
    "    \n",
    "    # Create viewer\n",
    "    viewer = py3Dmol.view(width=size[0], height=size[1])\n",
    "    viewer.addModel(mol_block, 'mol')\n",
    "    viewer.setStyle({'stick': {}})\n",
    "    viewer.setBackgroundColor('white')\n",
    "    viewer.zoomTo()\n",
    "    return viewer.show()"
   ]
  },
  {
   "cell_type": "markdown",
   "id": "VBlbdv7mg6sY",
   "metadata": {
    "id": "VBlbdv7mg6sY"
   },
   "source": [
    "**PySCF:** Python-based Simulations of Chemistry Framework (PySCF) is an ab initio computational chemistry program natively implemented in Python program language.\n",
    "\n",
    "**RDKit** is an open-source cheminformatics toolkit implemented in Python and C++. It provides robust tools for molecular representation, structure manipulation, and property calculation, enabling efficient handling of chemical information and integration into Python-based workflows.\n",
    "\n",
    "**NumPy** is a fundamental package for scientific computing in Python. It provides efficient support for large, multi-dimensional arrays and matrices, along with a comprehensive collection of mathematical functions to perform element-wise operations, linear algebra, Fourier analysis, and more, forming the core of many numerical workflows in computational science.\n",
    "\n",
    "**pandas** is a powerful, open-source data analysis and manipulation library for Python. It provides high-performance data structures like DataFrame and Series, enabling intuitive handling, transformation, and analysis of structured data within scientific and statistical workflows.\n",
    "\n",
    "**py3Dmol** is a Python interface to the 3Dmol.js molecular visualization library. It enables interactive, high-quality 3D visualization of molecular structures directly within Jupyter and Colab notebooks, making it ideal for displaying geometries and computational chemistry results in a web-based environment."
   ]
  },
  {
   "cell_type": "code",
   "execution_count": null,
   "id": "cf38d092-d451-411c-8017-be67b92bc2ed",
   "metadata": {
    "id": "cf38d092-d451-411c-8017-be67b92bc2ed"
   },
   "outputs": [],
   "source": [
    "# Define molecules\n",
    "molecules = {\n",
    "    \"water\": \"O\",                      # Single oxygen atom → implies H2O with implicit hydrogens\n",
    "    \"ammonia\": \"N\",                    # Single nitrogen atom → NH3 with implicit hydrogens\n",
    "    \"hydrogen_fluoride\": \"[H]F\",       # Explicit hydrogen bonded to fluorine → HF\n",
    "    \"carbon_monoxide\": \"[C-]#[O+]\",    # Formal negative charge on carbon, triple bond to positively charged oxygen\n",
    "    \"methane\": \"C\"                     # Single carbon atom → CH4 with implicit hydrogens\n",
    "}"
   ]
  },
  {
   "cell_type": "markdown",
   "id": "5350321c-b337-4277-957f-bda35aaaa095",
   "metadata": {},
   "source": [
    "**SMILES** (Simplified Molecular Input Line Entry System) is a compact, human-readable notation for describing molecular structures using ASCII strings. It encodes atoms, bonds, ring closures, charges, and stereochemistry in a linear form, allowing molecules to be easily stored, shared, and interpreted by cheminformatics tools such as RDKit."
   ]
  },
  {
   "cell_type": "code",
   "execution_count": null,
   "id": "56882de9-a64b-4b5d-9a52-9e634782cd84",
   "metadata": {},
   "outputs": [],
   "source": [
    "# Example: show ammonia\n",
    "mol_rdkit = Chem.AddHs(Chem.MolFromSmiles(\"N\"))\n",
    "AllChem.EmbedMolecule(mol_rdkit, AllChem.ETKDG())\n",
    "AllChem.UFFOptimizeMolecule(mol_rdkit)\n",
    "\n",
    "show_molecule_3D(mol_rdkit)"
   ]
  },
  {
   "cell_type": "code",
   "execution_count": null,
   "id": "ce7bde36-af77-471d-b25c-0bd4f8ff7750",
   "metadata": {
    "colab": {
     "base_uri": "https://localhost:8080/",
     "height": 289
    },
    "id": "ce7bde36-af77-471d-b25c-0bd4f8ff7750",
    "outputId": "3c7e4931-08a0-475e-b7b0-761798ebce32"
   },
   "outputs": [],
   "source": [
    "results = []\n",
    "\n",
    "for name, smiles in molecules.items():\n",
    "    # Generate 3D geometry\n",
    "    mol_rdkit = Chem.AddHs(Chem.MolFromSmiles(smiles))\n",
    "    AllChem.EmbedMolecule(mol_rdkit, AllChem.ETKDG())\n",
    "    AllChem.UFFOptimizeMolecule(mol_rdkit)\n",
    "    conf = mol_rdkit.GetConformer()\n",
    "\n",
    "    # Convert to PySCF format\n",
    "    atoms = []\n",
    "    for atom in mol_rdkit.GetAtoms():\n",
    "        pos = conf.GetAtomPosition(atom.GetIdx())\n",
    "        atoms.append(f\"{atom.GetSymbol()} {pos.x:.6f} {pos.y:.6f} {pos.z:.6f}\")\n",
    "\n",
    "    mol = gto.Mole()\n",
    "    mol.atom = \"\\n\".join(atoms)    # Coordinates from RDKit\n",
    "    mol.basis = \"def2svp\"          # Double-zeta basis set with polarization\n",
    "    mol.charge = 0                 # Neutral molecule\n",
    "    mol.spin = 0                   # Closed-shell → RHF applies\n",
    "    mol.build()\n",
    "    \n",
    "    mf = scf.RHF(mol)              # Restricted Hartree–Fock for closed-shell systems\n",
    "    energy = mf.kernel()           # Compute SCF total energy\n",
    "\n",
    "    # Dipole\n",
    "    dip = mf.dip_moment()          # Compute dipole moment (Debye) and returns (dx, dy, dz)\n",
    "    dip_magnitude = np.linalg.norm(dip)\n",
    "\n",
    "    # Store results\n",
    "    results.append({\n",
    "        \"Molecule\": name,\n",
    "        \"HF Energy (Hartree)\": energy,\n",
    "        \"Dipole Moment (D)\": f\"({dip[0]:.3f}, {dip[1]:.3f}, {dip[2]:.3f})\",\n",
    "        \"Dipole |μ| (D)\": dip_magnitude\n",
    "    })\n",
    "\n",
    "# Display as DataFrame\n",
    "df = pd.DataFrame(results)\n",
    "df"
   ]
  },
  {
   "cell_type": "markdown",
   "id": "3772b900-05bf-4dd6-8a89-fd2b7cf69a40",
   "metadata": {
    "id": "5rqlSK81ibeu"
   },
   "source": [
    "**Hartree–Fock (HF)** is a fundamental quantum chemistry method that approximates the electronic structure of molecules using a self-consistent field approach. It represents electrons as independent particles in a mean-field generated by the others, producing molecular orbitals and total electronic energy. In its restricted form (RHF), all electrons are paired in spatial orbitals, making it suitable for closed-shell systems.\n",
    "\n",
    "**Basis sets** are predefined collections of mathematical functions (typically Gaussians) used to represent atomic orbitals in quantum chemistry calculations. The **def2-SVP** basis set is a split-valence double-zeta basis from the def2 family, balancing computational efficiency and accuracy for elements up to radon. It includes polarization functions for better angular flexibility in bonding environments."
   ]
  }
 ],
 "metadata": {
  "colab": {
   "provenance": []
  },
  "kernelspec": {
   "display_name": "Python 3 (ipykernel)",
   "language": "python",
   "name": "python3"
  },
  "language_info": {
   "codemirror_mode": {
    "name": "ipython",
    "version": 3
   },
   "file_extension": ".py",
   "mimetype": "text/x-python",
   "name": "python",
   "nbconvert_exporter": "python",
   "pygments_lexer": "ipython3",
   "version": "3.12.7"
  }
 },
 "nbformat": 4,
 "nbformat_minor": 5
}
