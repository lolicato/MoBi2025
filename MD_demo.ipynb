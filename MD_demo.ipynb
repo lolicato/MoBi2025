{
 "cells": [
  {
   "cell_type": "markdown",
   "id": "a1187690-06f2-4c45-be6f-d5c471420b50",
   "metadata": {
    "id": "a1187690-06f2-4c45-be6f-d5c471420b50"
   },
   "source": [
    "# Molecular Dynamics Simulations"
   ]
  },
  {
   "cell_type": "code",
   "execution_count": null,
   "id": "268aa132-1cf3-4f5b-ab30-d76a5a1eed44",
   "metadata": {},
   "outputs": [],
   "source": []
  },
  {
   "cell_type": "code",
   "execution_count": null,
   "id": "jEjfnuQogdn6",
   "metadata": {
    "colab": {
     "base_uri": "https://localhost:8080/"
    },
    "id": "jEjfnuQogdn6",
    "outputId": "a56f56ed-3770-4f40-9776-ed92377d08b1"
   },
   "outputs": [],
   "source": []
  },
  {
   "cell_type": "code",
   "execution_count": null,
   "id": "eq8NPH9YhCor",
   "metadata": {
    "id": "eq8NPH9YhCor"
   },
   "outputs": [],
   "source": []
  },
  {
   "cell_type": "markdown",
   "id": "VBlbdv7mg6sY",
   "metadata": {
    "id": "VBlbdv7mg6sY"
   },
   "source": []
  },
  {
   "cell_type": "code",
   "execution_count": null,
   "id": "cf38d092-d451-411c-8017-be67b92bc2ed",
   "metadata": {
    "id": "cf38d092-d451-411c-8017-be67b92bc2ed"
   },
   "outputs": [],
   "source": []
  },
  {
   "cell_type": "markdown",
   "id": "5350321c-b337-4277-957f-bda35aaaa095",
   "metadata": {},
   "source": []
  },
  {
   "cell_type": "code",
   "execution_count": null,
   "id": "56882de9-a64b-4b5d-9a52-9e634782cd84",
   "metadata": {},
   "outputs": [],
   "source": []
  },
  {
   "cell_type": "code",
   "execution_count": null,
   "id": "ce7bde36-af77-471d-b25c-0bd4f8ff7750",
   "metadata": {
    "colab": {
     "base_uri": "https://localhost:8080/",
     "height": 289
    },
    "id": "ce7bde36-af77-471d-b25c-0bd4f8ff7750",
    "outputId": "3c7e4931-08a0-475e-b7b0-761798ebce32"
   },
   "outputs": [],
   "source": []
  },
  {
   "cell_type": "markdown",
   "id": "3772b900-05bf-4dd6-8a89-fd2b7cf69a40",
   "metadata": {
    "id": "5rqlSK81ibeu"
   },
   "source": []
  }
 ],
 "metadata": {
  "colab": {
   "provenance": []
  },
  "kernelspec": {
   "display_name": "Python 3 (ipykernel)",
   "language": "python",
   "name": "python3"
  },
  "language_info": {
   "codemirror_mode": {
    "name": "ipython",
    "version": 3
   },
   "file_extension": ".py",
   "mimetype": "text/x-python",
   "name": "python",
   "nbconvert_exporter": "python",
   "pygments_lexer": "ipython3",
   "version": "3.12.7"
  }
 },
 "nbformat": 4,
 "nbformat_minor": 5
}
