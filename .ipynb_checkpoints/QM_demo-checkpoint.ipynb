{
 "cells": [
  {
   "cell_type": "markdown",
   "id": "a1187690-06f2-4c45-be6f-d5c471420b50",
   "metadata": {},
   "source": [
    "# Quantum Chemistry Demo"
   ]
  },
  {
   "cell_type": "code",
   "execution_count": 1,
   "id": "560c2001-cba2-4638-a3ba-b535a8dd6c42",
   "metadata": {},
   "outputs": [
    {
     "data": {
      "application/vnd.jupyter.widget-view+json": {
       "model_id": "0d736dbed9d140cc9becdcead6a4924d",
       "version_major": 2,
       "version_minor": 0
      },
      "text/plain": []
     },
     "metadata": {},
     "output_type": "display_data"
    }
   ],
   "source": [
    "# Install PySCF and rdkit\n",
    "!pip install pyscf rdkit-pypi pandas"
   ]
  },
  {
   "cell_type": "code",
   "execution_count": 2,
   "id": "cf38d092-d451-411c-8017-be67b92bc2ed",
   "metadata": {},
   "outputs": [],
   "source": [
    "# Load Libraries\n",
    "from rdkit import Chem\n",
    "from rdkit.Chem import AllChem\n",
    "from pyscf import gto, scf\n",
    "import pandas as pd\n",
    "import numpy as np"
   ]
  },
  {
   "cell_type": "markdown",
   "id": "b572905b-b3e5-4a6d-8d42-23c5349dcf0f",
   "metadata": {},
   "source": [
    "**PySCF:** Python-based Simulations of Chemistry Framework (PySCF) is an ab initio computational chemistry program natively implemented in Python program language.\n",
    "\n",
    "**RDKit** is an open-source cheminformatics toolkit implemented in Python and C++. It provides robust tools for molecular representation, structure manipulation, and property calculation, enabling efficient handling of chemical information and integration into Python-based workflows.\n",
    "\n",
    "**NumPy** is a fundamental package for scientific computing in Python. It provides efficient support for large, multi-dimensional arrays and matrices, along with a comprehensive collection of mathematical functions to perform element-wise operations, linear algebra, Fourier analysis, and more, forming the core of many numerical workflows in computational science.\n",
    "\n",
    "**pandas** is a powerful, open-source data analysis and manipulation library for Python. It provides high-performance data structures like DataFrame and Series, enabling intuitive handling, transformation, and analysis of structured data within scientific and statistical workflows."
   ]
  },
  {
   "cell_type": "code",
   "execution_count": null,
   "id": "376128e0-2455-4f6b-bf1b-4f358acfad69",
   "metadata": {},
   "outputs": [],
   "source": [
    "# Define molecules\n",
    "molecules = {\n",
    "    \"water\": \"O\",\n",
    "    \"ammonia\": \"N\",\n",
    "    \"hydrogen_fluoride\": \"[H]F\",\n",
    "    \"carbon_monoxide\": \"[C-]#[O+]\",  # Charge-separated CO\n",
    "    \"methane\": \"C\"\n",
    "}"
   ]
  },
  {
   "cell_type": "code",
   "execution_count": 9,
   "id": "9b818686-0424-4f0a-8dcc-b52f2204aa2a",
   "metadata": {},
   "outputs": [
    {
     "name": "stdout",
     "output_type": "stream",
     "text": [
      "Running ORCA for glycine...\n",
      "Finished glycine, files stored in 'outputs/glycine_files'.\n",
      "Running ORCA for alanine...\n",
      "Finished alanine, files stored in 'outputs/alanine_files'.\n",
      "Running ORCA for valine...\n",
      "Finished valine, files stored in 'outputs/valine_files'.\n",
      "Running ORCA for leucine...\n",
      "Finished leucine, files stored in 'outputs/leucine_files'.\n",
      "Running ORCA for isoleucine...\n",
      "Finished isoleucine, files stored in 'outputs/isoleucine_files'.\n",
      "Running ORCA for serine...\n",
      "Finished serine, files stored in 'outputs/serine_files'.\n",
      "Running ORCA for threonine...\n",
      "Finished threonine, files stored in 'outputs/threonine_files'.\n",
      "Running ORCA for cysteine...\n",
      "Finished cysteine, files stored in 'outputs/cysteine_files'.\n",
      "Running ORCA for methionine...\n",
      "Finished methionine, files stored in 'outputs/methionine_files'.\n",
      "Running ORCA for phenylalanine...\n",
      "Finished phenylalanine, files stored in 'outputs/phenylalanine_files'.\n",
      "Running ORCA for tyrosine...\n",
      "Finished tyrosine, files stored in 'outputs/tyrosine_files'.\n",
      "Running ORCA for tryptophan...\n",
      "Finished tryptophan, files stored in 'outputs/tryptophan_files'.\n",
      "Running ORCA for aspartic_acid...\n",
      "Finished aspartic_acid, files stored in 'outputs/aspartic_acid_files'.\n",
      "Running ORCA for glutamic_acid...\n",
      "Finished glutamic_acid, files stored in 'outputs/glutamic_acid_files'.\n",
      "Running ORCA for asparagine...\n",
      "Finished asparagine, files stored in 'outputs/asparagine_files'.\n",
      "Running ORCA for glutamine...\n",
      "Finished glutamine, files stored in 'outputs/glutamine_files'.\n",
      "Running ORCA for histidine...\n",
      "Finished histidine, files stored in 'outputs/histidine_files'.\n",
      "Running ORCA for lysine...\n",
      "Finished lysine, files stored in 'outputs/lysine_files'.\n",
      "Running ORCA for arginine...\n",
      "Finished arginine, files stored in 'outputs/arginine_files'.\n",
      "Running ORCA for proline...\n",
      "Finished proline, files stored in 'outputs/proline_files'.\n",
      "All ORCA jobs completed.\n"
     ]
    }
   ],
   "source": [
    "results = []\n",
    "\n",
    "for name, smiles in molecules.items():\n",
    "    # Generate 3D geometry\n",
    "    mol_rdkit = Chem.AddHs(Chem.MolFromSmiles(smiles))\n",
    "    AllChem.EmbedMolecule(mol_rdkit, AllChem.ETKDG())\n",
    "    AllChem.UFFOptimizeMolecule(mol_rdkit)\n",
    "    conf = mol_rdkit.GetConformer()\n",
    "\n",
    "    # Convert to PySCF format\n",
    "    atoms = []\n",
    "    for atom in mol_rdkit.GetAtoms():\n",
    "        pos = conf.GetAtomPosition(atom.GetIdx())\n",
    "        atoms.append(f\"{atom.GetSymbol()} {pos.x:.6f} {pos.y:.6f} {pos.z:.6f}\")\n",
    "\n",
    "    # PySCF Molecule\n",
    "    mol = gto.Mole()\n",
    "    mol.atom = \"\\n\".join(atoms)\n",
    "    mol.basis = \"def2svp\"\n",
    "    mol.charge = 0\n",
    "    mol.spin = 0\n",
    "    mol.verbose = 0\n",
    "    mol.build()\n",
    "\n",
    "    # Hartree–Fock calculation\n",
    "    mf = scf.RHF(mol)\n",
    "    energy = mf.kernel()\n",
    "\n",
    "    # Dipole moment\n",
    "    dip = mf.dip_moment()  # returns (dx, dy, dz)\n",
    "    dip_magnitude = np.linalg.norm(dip)\n",
    "\n",
    "    # Store results\n",
    "    results.append({\n",
    "        \"Molecule\": name,\n",
    "        \"HF Energy (Hartree)\": energy,\n",
    "        \"Dipole Moment (D)\": f\"({dip[0]:.3f}, {dip[1]:.3f}, {dip[2]:.3f})\",\n",
    "        \"Dipole |μ| (D)\": dip_magnitude\n",
    "    })\n",
    "\n",
    "# Display as DataFrame\n",
    "df = pd.DataFrame(results)\n",
    "df"
   ]
  },
  {
   "cell_type": "code",
   "execution_count": 10,
   "id": "da74dce4-125e-4a62-b1a2-34531b9dc7bf",
   "metadata": {},
   "outputs": [
    {
     "name": "stdout",
     "output_type": "stream",
     "text": [
      "Dipole Moments (Debye):\n",
      "valine              : 3.277208766\n",
      "cysteine            : 4.084389069\n",
      "threonine           : 1.096854022\n",
      "isoleucine          : 1.685428413\n",
      "tyrosine            : 3.382793772\n",
      "methionine          : 3.195025048\n",
      "leucine             : 1.850149658\n",
      "glycine             : 1.967008951\n",
      "tryptophan          : 4.12220321\n",
      "aspartic_acid       : 4.005712205\n",
      "phenylalanine       : 2.718485942\n",
      "alanine             : 2.099251329\n",
      "arginine            : 12.977062\n",
      "histidine           : 3.599770427\n",
      "lysine              : 10.261972048\n",
      "asparagine          : 6.239866949\n",
      "serine              : 1.979255567\n",
      "proline             : 3.44367101\n",
      "glutamic_acid       : 6.719069211\n",
      "glutamine           : 7.098986848\n"
     ]
    }
   ],
   "source": [
    "# Extract Dipole moments from .out files\n",
    "base_dir = \"outputs\"\n",
    "dipole_results = {}\n",
    "\n",
    "# Loop through each subdirectory (e.g., water_files, ammonia_files)\n",
    "for subfolder in os.listdir(base_dir):\n",
    "    subfolder_path = os.path.join(base_dir, subfolder)\n",
    "    if not os.path.isdir(subfolder_path):\n",
    "        continue\n",
    "\n",
    "    # Look for the .out file (same name as subfolder but without \"_files\")\n",
    "    molecule_name = subfolder.replace(\"_files\", \"\")\n",
    "    out_file = os.path.join(subfolder_path, f\"{molecule_name}.out\")\n",
    "\n",
    "    if not os.path.exists(out_file):\n",
    "        dipole_results[molecule_name] = \"Output file not found\"\n",
    "        continue\n",
    "\n",
    "    dipole_debye = None\n",
    "    with open(out_file, \"r\", encoding=\"utf-8\", errors=\"ignore\") as f:\n",
    "        for line in f:\n",
    "            if \"Magnitude (Debye)\" in line:\n",
    "                try:\n",
    "                    dipole_debye = float(line.split(\":\")[1].strip())\n",
    "                except:\n",
    "                    dipole_debye = \"Parse error\"\n",
    "                break\n",
    "\n",
    "    dipole_results[molecule_name] = dipole_debye if dipole_debye is not None else \"Not found\"\n",
    "\n",
    "# Print summary\n",
    "print(\"Dipole Moments (Debye):\")\n",
    "for mol, value in dipole_results.items():\n",
    "    print(f\"{mol:<20}: {value}\")"
   ]
  },
  {
   "cell_type": "code",
   "execution_count": null,
   "id": "ce7bde36-af77-471d-b25c-0bd4f8ff7750",
   "metadata": {},
   "outputs": [],
   "source": []
  }
 ],
 "metadata": {
  "kernelspec": {
   "display_name": "Python 3 (ipykernel)",
   "language": "python",
   "name": "python3"
  },
  "language_info": {
   "codemirror_mode": {
    "name": "ipython",
    "version": 3
   },
   "file_extension": ".py",
   "mimetype": "text/x-python",
   "name": "python",
   "nbconvert_exporter": "python",
   "pygments_lexer": "ipython3",
   "version": "3.12.7"
  }
 },
 "nbformat": 4,
 "nbformat_minor": 5
}
