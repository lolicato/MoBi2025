


# Install PySCF and rdkit
!pip install pyscf rdkit-pypi pandas


# Load Libraries
from rdkit import Chem
from rdkit.Chem import AllChem
from pyscf import gto, scf
import pandas as pd
import numpy as np





# Define molecules
molecules = {
    "water": "O",                      # Single oxygen atom → implies H2O with implicit hydrogens
    "ammonia": "N",                    # Single nitrogen atom → NH3 with implicit hydrogens
    "hydrogen_fluoride": "[H]F",       # Explicit hydrogen bonded to fluorine → HF
    "carbon_monoxide": "[C-]#[O+]",    # Formal negative charge on carbon, triple bond to positively charged oxygen
    "methane": "C"                     # Single carbon atom → CH4 with implicit hydrogens
}





results = []

for name, smiles in molecules.items():
    # Generate 3D geometry
    mol_rdkit = Chem.AddHs(Chem.MolFromSmiles(smiles))
    AllChem.EmbedMolecule(mol_rdkit, AllChem.ETKDG())
    AllChem.UFFOptimizeMolecule(mol_rdkit)
    conf = mol_rdkit.GetConformer()

    # Convert to PySCF format
    atoms = []
    for atom in mol_rdkit.GetAtoms():
        pos = conf.GetAtomPosition(atom.GetIdx())
        atoms.append(f"{atom.GetSymbol()} {pos.x:.6f} {pos.y:.6f} {pos.z:.6f}")

    mol = gto.Mole()
    mol.atom = "\n".join(atoms)    # Coordinates from RDKit
    mol.basis = "def2svp"          # Double-zeta basis set with polarization
    mol.charge = 0                 # Neutral molecule
    mol.spin = 0                   # Closed-shell → RHF applies
    mol.build()
    
    mf = scf.RHF(mol)              # Restricted Hartree–Fock for closed-shell systems
    energy = mf.kernel()           # Compute SCF total energy

    # Dipole
    dip = mf.dip_moment()          # Compute dipole moment (Debye) and returns (dx, dy, dz)
    dip_magnitude = np.linalg.norm(dip)

    # Store results
    results.append({
        "Molecule": name,
        "HF Energy (Hartree)": energy,
        "Dipole Moment (D)": f"({dip[0]:.3f}, {dip[1]:.3f}, {dip[2]:.3f})",
        "Dipole |μ| (D)": dip_magnitude
    })

# Display as DataFrame
df = pd.DataFrame(results)
df



